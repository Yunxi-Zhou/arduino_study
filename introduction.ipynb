{
 "cells": [
  {
   "cell_type": "markdown",
   "metadata": {},
   "source": [
    "# What is Arduino?\n",
    "\n",
    "- a open-source electronic prototyping platform\n",
    "\n",
    "|- Hardware -> UNO board - electronic components\n",
    "\n",
    "|- Software -> PlatformIO IDE\n",
    "\n",
    "|- Community"
   ]
  }
 ],
 "metadata": {
  "language_info": {
   "name": "python"
  }
 },
 "nbformat": 4,
 "nbformat_minor": 2
}
