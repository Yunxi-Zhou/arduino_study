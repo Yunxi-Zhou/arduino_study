{
 "cells": [
  {
   "cell_type": "markdown",
   "metadata": {},
   "source": [
    "# What is Arduino?\n",
    "\n",
    "- a open-source electronic prototyping platform\n",
    "\n",
    "|- Hardware\n",
    "\n",
    "|- Software\n",
    "\n",
    "|- Community"
   ]
  }
 ],
 "metadata": {
  "language_info": {
   "name": "python"
  }
 },
 "nbformat": 4,
 "nbformat_minor": 2
}
